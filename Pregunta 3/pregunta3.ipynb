{
 "cells": [
  {
   "cell_type": "code",
   "execution_count": 34,
   "id": "ae2b6a1d-aec8-4fe1-92e2-bbe6add5a8b1",
   "metadata": {},
   "outputs": [],
   "source": [
    "import numpy as np"
   ]
  },
  {
   "cell_type": "code",
   "execution_count": 18,
   "id": "6b1319aa-e82a-4266-99f8-134387f616d5",
   "metadata": {},
   "outputs": [],
   "source": [
    "# A continuación se presentan las funciones TwoOpt, Swap, Complement y Decrease \n",
    "# que implementan diferentes tipos de vecidandes para representaciones basadas en \n",
    "# permutaciones.  \n",
    "# Observe el resultado de la aplicación de los diferentes operadores de vecindad \n",
    " \n",
    " \n",
    "# TwoOpt crea una vecindad basda en el operador two-opt de forma determinista \n",
    "# Todas las permutaciones que se pueden obtener con two-opt están en la vecindad \n",
    "def TwoOpt(perm): \n",
    "    n = perm.shape[0] \n",
    "    n_neighbors = int(n*(n-1)/2) - n           # Número de vecinos \n",
    "    #print(type(int(n_neighbors)))\n",
    "    neighbors = np.zeros((n_neighbors,n)) # Guardaremos todos los vecinos en neighbors \n",
    "    ind = 0 \n",
    "    for i in range(n-1): \n",
    "      for j in range(i+2,n):        # Las posiciones a elegir para el two-opt no deben ser consecutivas \n",
    "        if not(i==0 and j==n-1):    # Las posiciones no deben ser primera y última (son circularmente consecutivas) \n",
    "          neighbors[ind,:] = perm     \n",
    "          aux = perm[i:j+1].copy()  \n",
    "          neighbors[ind,i:j+1] = aux[::-1]   # Se invierte el camino entre posiciones elegidas \n",
    "          ind = ind + 1    \n",
    "    return neighbors \n",
    " \n",
    "# Swap crea una vecindad basada en el operador de intercambio entre posiciones \n",
    "# Todas las permutaciones que se pueden obtener como un swap entre la primera posición \n",
    "# y cualquiera de las restantes están en la vecindad \n",
    " \n",
    "def Swap(perm): \n",
    "    n = perm.shape[0] \n",
    "    n_neighbors = n-1           # Número de vecinos \n",
    "    neighbors = np.zeros((n_neighbors,n)) # Guardaremos todos los vecinos en neighbors \n",
    "    ind = 0 \n",
    "    for i in range(1,n): \n",
    "          neighbors[ind,:] = perm     \n",
    "          neighbors[ind,i] = perm[0] \n",
    "          neighbors[ind,0] = perm[i]   \n",
    "          ind = ind + 1    \n",
    "    return neighbors \n",
    " \n",
    "# Complement crea una vecindad basada en el operador de complemento entre posiciones \n",
    "# en la cual cada valor i en la permutación es sustituido por el valor (n-i) excepto para i=n, \n",
    "# que permanece igual \n",
    "# Cada permutación tiene un único vecino \n",
    " \n",
    " \n",
    "def Complement(perm): \n",
    "    n = perm.shape[0] \n",
    "    n_neighbors = 1                       # Número de vecinos \n",
    "    neighbors = np.zeros((n_neighbors,n)) # Guardaremos todos los vecinos en neighbors \n",
    "    pos_n = np.where(perm==n) \n",
    "    neighbors[0,:] = (n-perm)             # Se sustituye por el complemento      \n",
    "    neighbors[0,pos_n] = n                # Se mantiene el valor de n igual \n",
    "    return neighbors \n",
    " \n",
    "# Decrease crea una vecindad basada en obtener una nueva solución restando un valor \"v\" a cada posición \n",
    "# y crear una solución vecina por cada valor de v en (1,...,n-1). Cuando la resta da valor cero, se pasa \n",
    "# a n \n",
    "# Ej: permutacion original:   5 3 4 2 1: \n",
    "#     permutaciones vecinas:  (4 2 3 1 5),(3,1,2,5,4),(2,5,1,4,3),(1,4,5,3,2) \n",
    "                              \n",
    "def Decrease(perm): \n",
    "    n = perm.shape[0] \n",
    "    n_neighbors = n-1                       # Número de vecinos     \n",
    "    neighbors = np.zeros((n_neighbors,n)) # Guardaremos todos los vecinos en neighbors \n",
    "    auxperm = perm.copy() \n",
    "    for i in range(n-1): \n",
    "      auxperm = auxperm-1 \n",
    "      pos_0 = np.where(auxperm==0) \n",
    "      auxperm[pos_0] = n   \n",
    "      neighbors[i,:] = auxperm                                 \n",
    "    return neighbors \n",
    " \n",
    " \n"
   ]
  },
  {
   "cell_type": "code",
   "execution_count": 35,
   "id": "ff4955de-178e-4343-a5f3-9a3e3461442d",
   "metadata": {},
   "outputs": [
    {
     "name": "stdout",
     "output_type": "stream",
     "text": [
      "1. [[3. 5. 6. 2. 4. 1.]\n",
      " [2. 3. 5. 6. 4. 1.]\n",
      " [4. 2. 3. 5. 6. 1.]\n",
      " [6. 2. 3. 5. 4. 1.]\n",
      " [6. 4. 2. 3. 5. 1.]\n",
      " [6. 1. 4. 2. 3. 5.]\n",
      " [6. 5. 4. 2. 3. 1.]\n",
      " [6. 5. 1. 4. 2. 3.]\n",
      " [6. 5. 3. 1. 4. 2.]]\n",
      "2. [[5. 6. 3. 2. 4. 1.]\n",
      " [3. 5. 6. 2. 4. 1.]\n",
      " [2. 5. 3. 6. 4. 1.]\n",
      " [4. 5. 3. 2. 6. 1.]\n",
      " [1. 5. 3. 2. 4. 6.]]\n",
      "3. [[6. 1. 3. 4. 2. 5.]]\n",
      "4. [[5. 4. 2. 1. 3. 6.]\n",
      " [4. 3. 1. 6. 2. 5.]\n",
      " [3. 2. 6. 5. 1. 4.]\n",
      " [2. 1. 5. 4. 6. 3.]\n",
      " [1. 6. 4. 3. 5. 2.]]\n"
     ]
    }
   ],
   "source": [
    "n = 6; \n",
    "perm = np.random.permutation(n)+1 \n",
    "#print(type(perm),\"perm:\",perm) \n",
    "neighbors1 = TwoOpt(perm) \n",
    "neighbors2 = Swap(perm) \n",
    "neighbors3 = Complement(perm) \n",
    "neighbors4 = Decrease(perm) \n",
    " \n",
    "print(\"1.\",neighbors1) \n",
    "print(\"2.\",neighbors2) \n",
    "print(\"3.\",neighbors3) \n",
    "print(\"4.\",neighbors4)"
   ]
  },
  {
   "cell_type": "markdown",
   "id": "63ba9eac-3f1e-4087-adf6-8f58cd5935a7",
   "metadata": {},
   "source": [
    "## revision de examen 12,13,14, desde las 12"
   ]
  }
 ],
 "metadata": {
  "kernelspec": {
   "display_name": "Python 3 (ipykernel)",
   "language": "python",
   "name": "python3"
  },
  "language_info": {
   "codemirror_mode": {
    "name": "ipython",
    "version": 3
   },
   "file_extension": ".py",
   "mimetype": "text/x-python",
   "name": "python",
   "nbconvert_exporter": "python",
   "pygments_lexer": "ipython3",
   "version": "3.11.8"
  }
 },
 "nbformat": 4,
 "nbformat_minor": 5
}
